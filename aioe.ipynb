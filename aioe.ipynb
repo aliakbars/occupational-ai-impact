{
 "cells": [
  {
   "cell_type": "code",
   "execution_count": 1,
   "metadata": {},
   "outputs": [
    {
     "name": "stderr",
     "output_type": "stream",
     "text": [
      "/Users/ali.septiandri/miniforge3/lib/python3.10/site-packages/tqdm/auto.py:21: TqdmWarning: IProgress not found. Please update jupyter and ipywidgets. See https://ipywidgets.readthedocs.io/en/stable/user_install.html\n",
      "  from .autonotebook import tqdm as notebook_tqdm\n"
     ]
    }
   ],
   "source": [
    "import matplotlib.pyplot as plt\n",
    "import numpy as np\n",
    "import pandas as pd\n",
    "import seaborn as sns\n",
    "\n",
    "from sentence_transformers import SentenceTransformer\n",
    "from sklearn.metrics.pairwise import cosine_similarity"
   ]
  },
  {
   "cell_type": "code",
   "execution_count": 2,
   "metadata": {},
   "outputs": [],
   "source": [
    "model = SentenceTransformer('sentence-transformers/sentence-t5-xl')"
   ]
  },
  {
   "cell_type": "code",
   "execution_count": 3,
   "metadata": {},
   "outputs": [],
   "source": [
    "eff_defs = [\n",
    "    [\"Abstract strategy games\", \"The ability to play abstract games involving sometimes complex strategy and reasoning ability, such as chess, go, or checkers, at a high level\"],\n",
    "    [\"Real-time video games\", \"The ability to play a variety of real-time video games of increasing complexity at a high level.\"],\n",
    "    [\"Image recognition\", \"The determination of what objects are present in a still image.\"],\n",
    "    [\"Visual question answering\", \"The recognition of events, relationships, and context from a still image.\"],\n",
    "    [\"Image generation\", \"The creation of complex images.\"],\n",
    "    [\"Reading comprehension\", \"The ability to answer simple reasoning questions based on an understanding of text.\"],\n",
    "    [\"Language modeling\", \"The ability to model, predict, or mimic human language.\"],\n",
    "    [\"Translation\", \"The translation of words or text from one language into another.\"],\n",
    "    [\"Speech recognition\", \"The recognition of spoken language into text.\"],\n",
    "    [\"Instrumental track recognition\", \"The recognition of instrumental musical tracks.\"],\n",
    "]"
   ]
  },
  {
   "cell_type": "code",
   "execution_count": 4,
   "metadata": {},
   "outputs": [
    {
     "name": "stdout",
     "output_type": "stream",
     "text": [
      "\\begin{tabular}{ll}\n",
      "\\toprule\n",
      " & Definition \\\\\n",
      "AI application &  \\\\\n",
      "\\midrule\n",
      "Abstract strategy games & The ability to play abstract games involving sometimes complex strategy and reasoning ability, such as chess, go, or checkers, at a high level \\\\\n",
      "Real-time video games & The ability to play a variety of real-time video games of increasing complexity at a high level. \\\\\n",
      "Image recognition & The determination of what objects are present in a still image. \\\\\n",
      "Visual question answering & The recognition of events, relationships, and context from a still image. \\\\\n",
      "Image generation & The creation of complex images. \\\\\n",
      "Reading comprehension & The ability to answer simple reasoning questions based on an understanding of text. \\\\\n",
      "Language modeling & The ability to model, predict, or mimic human language. \\\\\n",
      "Translation & The translation of words or text from one language into another. \\\\\n",
      "Speech recognition & The recognition of spoken language into text. \\\\\n",
      "Instrumental track recognition & The recognition of instrumental musical tracks. \\\\\n",
      "\\bottomrule\n",
      "\\end{tabular}\n",
      "\n"
     ]
    }
   ],
   "source": [
    "print(pd.DataFrame(eff_defs, columns=[\"AI application\", \"Definition\"]).set_index(\"AI application\").to_latex())"
   ]
  },
  {
   "cell_type": "code",
   "execution_count": 5,
   "metadata": {},
   "outputs": [],
   "source": [
    "eff_abilities = [\n",
    "    \"The ability to play abstract games involving sometimes complex strategy and reasoning ability, such as chess, go, or checkers, at a high level\",\n",
    "    \"The ability to play a variety of real-time video games of increasing complexity at a high level.\",\n",
    "    \"The determination of what objects are present in a still image.\",\n",
    "    \"The recognition of events, relationships, and context from a still image.\",\n",
    "    \"The creation of complex images.\",\n",
    "    \"The ability to answer simple reasoning questions based on an understanding of text.\",\n",
    "    \"The ability to model, predict, or mimic human language.\",\n",
    "    \"The translation of words or text from one language into another.\",\n",
    "    \"The recognition of spoken language into text.\",\n",
    "    \"The recognition of instrumental musical tracks.\",\n",
    "]"
   ]
  },
  {
   "cell_type": "code",
   "execution_count": 6,
   "metadata": {},
   "outputs": [],
   "source": [
    "eff_embeddings = model.encode(eff_abilities)"
   ]
  },
  {
   "cell_type": "code",
   "execution_count": 7,
   "metadata": {},
   "outputs": [],
   "source": [
    "abilities = pd.read_csv('datasets/db_24_3_text/Abilities.txt', sep='\\t')\n",
    "abilities_activities = pd.read_csv('datasets/db_24_3_text/Abilities to Work Activities.txt', sep='\\t')"
   ]
  },
  {
   "cell_type": "code",
   "execution_count": 8,
   "metadata": {},
   "outputs": [],
   "source": [
    "activity_embeddings = model.encode(abilities_activities['Work Activities Element Name'])"
   ]
  },
  {
   "cell_type": "code",
   "execution_count": 9,
   "metadata": {},
   "outputs": [],
   "source": [
    "ability_sim = cosine_similarity(eff_embeddings, activity_embeddings)"
   ]
  },
  {
   "cell_type": "code",
   "execution_count": 10,
   "metadata": {},
   "outputs": [],
   "source": [
    "elements = abilities['Element Name'].unique()\n",
    "element_embeddings = model.encode(elements)"
   ]
  },
  {
   "cell_type": "code",
   "execution_count": 11,
   "metadata": {},
   "outputs": [],
   "source": [
    "element_sim = cosine_similarity(eff_embeddings, element_embeddings)"
   ]
  },
  {
   "cell_type": "code",
   "execution_count": 12,
   "metadata": {},
   "outputs": [
    {
     "name": "stdout",
     "output_type": "stream",
     "text": [
      "Identifying Objects, Actions, and Events\n",
      "The determination of what objects are present in a still image.\n"
     ]
    }
   ],
   "source": [
    "random_idx = np.random.randint(0, abilities_activities.shape[0])\n",
    "print(abilities_activities.loc[random_idx, 'Work Activities Element Name'])\n",
    "print(eff_abilities[ability_sim[:,random_idx].argmax()])"
   ]
  },
  {
   "cell_type": "code",
   "execution_count": 13,
   "metadata": {},
   "outputs": [
    {
     "name": "stdout",
     "output_type": "stream",
     "text": [
      "Deductive Reasoning\n",
      "The ability to answer simple reasoning questions based on an understanding of text.\n"
     ]
    }
   ],
   "source": [
    "random_idx = np.random.randint(0, len(elements))\n",
    "print(elements[random_idx])\n",
    "print(eff_abilities[element_sim[:,random_idx].argmax()])"
   ]
  },
  {
   "cell_type": "code",
   "execution_count": 14,
   "metadata": {},
   "outputs": [],
   "source": [
    "abilities_activities['ai_exposure'] = ability_sim.sum(axis=0)"
   ]
  },
  {
   "cell_type": "code",
   "execution_count": 16,
   "metadata": {},
   "outputs": [
    {
     "data": {
      "text/html": [
       "<div>\n",
       "<style scoped>\n",
       "    .dataframe tbody tr th:only-of-type {\n",
       "        vertical-align: middle;\n",
       "    }\n",
       "\n",
       "    .dataframe tbody tr th {\n",
       "        vertical-align: top;\n",
       "    }\n",
       "\n",
       "    .dataframe thead th {\n",
       "        text-align: right;\n",
       "    }\n",
       "</style>\n",
       "<table border=\"1\" class=\"dataframe\">\n",
       "  <thead>\n",
       "    <tr style=\"text-align: right;\">\n",
       "      <th></th>\n",
       "      <th>O*NET-SOC Code</th>\n",
       "      <th>Element ID</th>\n",
       "      <th>Element Name</th>\n",
       "      <th>Scale ID</th>\n",
       "      <th>Data Value</th>\n",
       "      <th>N</th>\n",
       "      <th>Standard Error</th>\n",
       "      <th>Lower CI Bound</th>\n",
       "      <th>Upper CI Bound</th>\n",
       "      <th>Recommend Suppress</th>\n",
       "      <th>Not Relevant</th>\n",
       "      <th>Date</th>\n",
       "      <th>Domain Source</th>\n",
       "      <th>n/a</th>\n",
       "    </tr>\n",
       "  </thead>\n",
       "  <tbody>\n",
       "    <tr>\n",
       "      <th>0</th>\n",
       "      <td>11-1011.00</td>\n",
       "      <td>1.A.1.a.1</td>\n",
       "      <td>Oral Comprehension</td>\n",
       "      <td>IM</td>\n",
       "      <td>4.50</td>\n",
       "      <td>8.0</td>\n",
       "      <td>0.19</td>\n",
       "      <td>4.13</td>\n",
       "      <td>4.87</td>\n",
       "      <td>N</td>\n",
       "      <td>NaN</td>\n",
       "      <td>07/2014</td>\n",
       "      <td>Analyst</td>\n",
       "      <td>NaN</td>\n",
       "    </tr>\n",
       "    <tr>\n",
       "      <th>1</th>\n",
       "      <td>11-1011.00</td>\n",
       "      <td>1.A.1.a.1</td>\n",
       "      <td>Oral Comprehension</td>\n",
       "      <td>LV</td>\n",
       "      <td>4.88</td>\n",
       "      <td>8.0</td>\n",
       "      <td>0.13</td>\n",
       "      <td>4.63</td>\n",
       "      <td>5.12</td>\n",
       "      <td>N</td>\n",
       "      <td>N</td>\n",
       "      <td>07/2014</td>\n",
       "      <td>Analyst</td>\n",
       "      <td>0.0</td>\n",
       "    </tr>\n",
       "    <tr>\n",
       "      <th>2</th>\n",
       "      <td>11-1011.00</td>\n",
       "      <td>1.A.1.a.2</td>\n",
       "      <td>Written Comprehension</td>\n",
       "      <td>IM</td>\n",
       "      <td>4.25</td>\n",
       "      <td>8.0</td>\n",
       "      <td>0.16</td>\n",
       "      <td>3.93</td>\n",
       "      <td>4.57</td>\n",
       "      <td>N</td>\n",
       "      <td>NaN</td>\n",
       "      <td>07/2014</td>\n",
       "      <td>Analyst</td>\n",
       "      <td>NaN</td>\n",
       "    </tr>\n",
       "    <tr>\n",
       "      <th>3</th>\n",
       "      <td>11-1011.00</td>\n",
       "      <td>1.A.1.a.2</td>\n",
       "      <td>Written Comprehension</td>\n",
       "      <td>LV</td>\n",
       "      <td>4.62</td>\n",
       "      <td>8.0</td>\n",
       "      <td>0.18</td>\n",
       "      <td>4.27</td>\n",
       "      <td>4.98</td>\n",
       "      <td>N</td>\n",
       "      <td>N</td>\n",
       "      <td>07/2014</td>\n",
       "      <td>Analyst</td>\n",
       "      <td>0.0</td>\n",
       "    </tr>\n",
       "    <tr>\n",
       "      <th>4</th>\n",
       "      <td>11-1011.00</td>\n",
       "      <td>1.A.1.a.3</td>\n",
       "      <td>Oral Expression</td>\n",
       "      <td>IM</td>\n",
       "      <td>4.38</td>\n",
       "      <td>8.0</td>\n",
       "      <td>0.18</td>\n",
       "      <td>4.02</td>\n",
       "      <td>4.73</td>\n",
       "      <td>N</td>\n",
       "      <td>NaN</td>\n",
       "      <td>07/2014</td>\n",
       "      <td>Analyst</td>\n",
       "      <td>NaN</td>\n",
       "    </tr>\n",
       "    <tr>\n",
       "      <th>...</th>\n",
       "      <td>...</td>\n",
       "      <td>...</td>\n",
       "      <td>...</td>\n",
       "      <td>...</td>\n",
       "      <td>...</td>\n",
       "      <td>...</td>\n",
       "      <td>...</td>\n",
       "      <td>...</td>\n",
       "      <td>...</td>\n",
       "      <td>...</td>\n",
       "      <td>...</td>\n",
       "      <td>...</td>\n",
       "      <td>...</td>\n",
       "      <td>...</td>\n",
       "    </tr>\n",
       "    <tr>\n",
       "      <th>100667</th>\n",
       "      <td>53-7121.00</td>\n",
       "      <td>1.A.4.b.3</td>\n",
       "      <td>Sound Localization</td>\n",
       "      <td>LV</td>\n",
       "      <td>2.00</td>\n",
       "      <td>8.0</td>\n",
       "      <td>0.00</td>\n",
       "      <td>2.00</td>\n",
       "      <td>2.00</td>\n",
       "      <td>N</td>\n",
       "      <td>N</td>\n",
       "      <td>08/2019</td>\n",
       "      <td>Analyst</td>\n",
       "      <td>0.0</td>\n",
       "    </tr>\n",
       "    <tr>\n",
       "      <th>100668</th>\n",
       "      <td>53-7121.00</td>\n",
       "      <td>1.A.4.b.4</td>\n",
       "      <td>Speech Recognition</td>\n",
       "      <td>IM</td>\n",
       "      <td>3.12</td>\n",
       "      <td>8.0</td>\n",
       "      <td>0.13</td>\n",
       "      <td>2.88</td>\n",
       "      <td>3.37</td>\n",
       "      <td>N</td>\n",
       "      <td>NaN</td>\n",
       "      <td>08/2019</td>\n",
       "      <td>Analyst</td>\n",
       "      <td>NaN</td>\n",
       "    </tr>\n",
       "    <tr>\n",
       "      <th>100669</th>\n",
       "      <td>53-7121.00</td>\n",
       "      <td>1.A.4.b.4</td>\n",
       "      <td>Speech Recognition</td>\n",
       "      <td>LV</td>\n",
       "      <td>2.75</td>\n",
       "      <td>8.0</td>\n",
       "      <td>0.16</td>\n",
       "      <td>2.43</td>\n",
       "      <td>3.07</td>\n",
       "      <td>N</td>\n",
       "      <td>N</td>\n",
       "      <td>08/2019</td>\n",
       "      <td>Analyst</td>\n",
       "      <td>0.0</td>\n",
       "    </tr>\n",
       "    <tr>\n",
       "      <th>100670</th>\n",
       "      <td>53-7121.00</td>\n",
       "      <td>1.A.4.b.5</td>\n",
       "      <td>Speech Clarity</td>\n",
       "      <td>IM</td>\n",
       "      <td>3.12</td>\n",
       "      <td>8.0</td>\n",
       "      <td>0.13</td>\n",
       "      <td>2.88</td>\n",
       "      <td>3.37</td>\n",
       "      <td>N</td>\n",
       "      <td>NaN</td>\n",
       "      <td>08/2019</td>\n",
       "      <td>Analyst</td>\n",
       "      <td>NaN</td>\n",
       "    </tr>\n",
       "    <tr>\n",
       "      <th>100671</th>\n",
       "      <td>53-7121.00</td>\n",
       "      <td>1.A.4.b.5</td>\n",
       "      <td>Speech Clarity</td>\n",
       "      <td>LV</td>\n",
       "      <td>2.88</td>\n",
       "      <td>8.0</td>\n",
       "      <td>0.13</td>\n",
       "      <td>2.63</td>\n",
       "      <td>3.12</td>\n",
       "      <td>N</td>\n",
       "      <td>N</td>\n",
       "      <td>08/2019</td>\n",
       "      <td>Analyst</td>\n",
       "      <td>0.0</td>\n",
       "    </tr>\n",
       "  </tbody>\n",
       "</table>\n",
       "<p>100672 rows × 14 columns</p>\n",
       "</div>"
      ],
      "text/plain": [
       "       O*NET-SOC Code Element ID           Element Name Scale ID  Data Value  \\\n",
       "0          11-1011.00  1.A.1.a.1     Oral Comprehension       IM        4.50   \n",
       "1          11-1011.00  1.A.1.a.1     Oral Comprehension       LV        4.88   \n",
       "2          11-1011.00  1.A.1.a.2  Written Comprehension       IM        4.25   \n",
       "3          11-1011.00  1.A.1.a.2  Written Comprehension       LV        4.62   \n",
       "4          11-1011.00  1.A.1.a.3        Oral Expression       IM        4.38   \n",
       "...               ...        ...                    ...      ...         ...   \n",
       "100667     53-7121.00  1.A.4.b.3     Sound Localization       LV        2.00   \n",
       "100668     53-7121.00  1.A.4.b.4     Speech Recognition       IM        3.12   \n",
       "100669     53-7121.00  1.A.4.b.4     Speech Recognition       LV        2.75   \n",
       "100670     53-7121.00  1.A.4.b.5         Speech Clarity       IM        3.12   \n",
       "100671     53-7121.00  1.A.4.b.5         Speech Clarity       LV        2.88   \n",
       "\n",
       "          N  Standard Error  Lower CI Bound  Upper CI Bound  \\\n",
       "0       8.0            0.19            4.13            4.87   \n",
       "1       8.0            0.13            4.63            5.12   \n",
       "2       8.0            0.16            3.93            4.57   \n",
       "3       8.0            0.18            4.27            4.98   \n",
       "4       8.0            0.18            4.02            4.73   \n",
       "...     ...             ...             ...             ...   \n",
       "100667  8.0            0.00            2.00            2.00   \n",
       "100668  8.0            0.13            2.88            3.37   \n",
       "100669  8.0            0.16            2.43            3.07   \n",
       "100670  8.0            0.13            2.88            3.37   \n",
       "100671  8.0            0.13            2.63            3.12   \n",
       "\n",
       "       Recommend Suppress Not Relevant     Date Domain Source  n/a  \n",
       "0                       N          NaN  07/2014       Analyst  NaN  \n",
       "1                       N            N  07/2014       Analyst  0.0  \n",
       "2                       N          NaN  07/2014       Analyst  NaN  \n",
       "3                       N            N  07/2014       Analyst  0.0  \n",
       "4                       N          NaN  07/2014       Analyst  NaN  \n",
       "...                   ...          ...      ...           ...  ...  \n",
       "100667                  N            N  08/2019       Analyst  0.0  \n",
       "100668                  N          NaN  08/2019       Analyst  NaN  \n",
       "100669                  N            N  08/2019       Analyst  0.0  \n",
       "100670                  N          NaN  08/2019       Analyst  NaN  \n",
       "100671                  N            N  08/2019       Analyst  0.0  \n",
       "\n",
       "[100672 rows x 14 columns]"
      ]
     },
     "execution_count": 16,
     "metadata": {},
     "output_type": "execute_result"
    }
   ],
   "source": []
  },
  {
   "cell_type": "code",
   "execution_count": 17,
   "metadata": {},
   "outputs": [],
   "source": [
    "abilities['n/a'] = abilities['Not Relevant'].map({'Y': 1, 'N': 0})\n",
    "abilities_ = abilities.pivot_table(\n",
    "    index=['O*NET-SOC Code', 'Element ID', 'Element Name'],\n",
    "    columns=['Scale ID'],\n",
    "    values=['Data Value', 'n/a'],\n",
    "    aggfunc='max'\n",
    ").reset_index()\n",
    "abilities_.columns = ['O*NET-SOC Code', 'element_id', 'element_name', 'importance', 'level', 'is_not_relevant']\n",
    "# abilities_ = abilities_.query('is_not_relevant == 0')"
   ]
  },
  {
   "cell_type": "code",
   "execution_count": 19,
   "metadata": {},
   "outputs": [],
   "source": [
    "abilities_ai = pd.merge(\n",
    "    abilities_,\n",
    "    # abilities_activities.groupby('Abilities Element ID').ai_exposure.mean().reset_index(),\n",
    "    pd.DataFrame({\n",
    "        'Element Name': elements,\n",
    "        'ai_exposure': element_sim.sum(axis=0)\n",
    "    }),\n",
    "    how='left',\n",
    "    left_on='element_name',\n",
    "    right_on='Element Name',\n",
    "    validate='m:1',\n",
    ")\n",
    "\n",
    "abilities_ai['numerator'] = abilities_ai['importance'] * abilities_ai['level'] * abilities_ai['ai_exposure']\n",
    "abilities_ai['denominator'] = abilities_ai['importance'] * abilities_ai['level']\n",
    "\n",
    "abilities_ai = abilities_ai.groupby(['O*NET-SOC Code']).agg({\n",
    "    'numerator': 'sum',\n",
    "    'denominator': 'sum'\n",
    "})\n",
    "abilities_ai['aioe'] = abilities_ai['numerator'] / abilities_ai['denominator']"
   ]
  },
  {
   "cell_type": "code",
   "execution_count": 20,
   "metadata": {},
   "outputs": [
    {
     "data": {
      "text/plain": [
       "'Stamina'"
      ]
     },
     "execution_count": 20,
     "metadata": {},
     "output_type": "execute_result"
    }
   ],
   "source": [
    "abilities['Element Name'].unique()[35]"
   ]
  },
  {
   "cell_type": "code",
   "execution_count": 21,
   "metadata": {},
   "outputs": [
    {
     "data": {
      "text/plain": [
       "39"
      ]
     },
     "execution_count": 21,
     "metadata": {},
     "output_type": "execute_result"
    }
   ],
   "source": [
    "element_sim.sum(axis=0).argmin()"
   ]
  },
  {
   "cell_type": "code",
   "execution_count": 25,
   "metadata": {},
   "outputs": [],
   "source": [
    "abilities_ai = abilities_ai.reset_index()[['O*NET-SOC Code', 'aioe']]\n",
    "# abilities_ai.to_csv('datasets/replicated_aioe.csv', index=False)"
   ]
  },
  {
   "cell_type": "code",
   "execution_count": 34,
   "metadata": {},
   "outputs": [],
   "source": [
    "abilities_ai['SOC Code'] = abilities_ai['O*NET-SOC Code'].str[:7]\n",
    "aioe_a = abilities_ai.groupby('SOC Code').agg({'aioe': 'mean'}).reset_index()"
   ]
  },
  {
   "cell_type": "code",
   "execution_count": 27,
   "metadata": {},
   "outputs": [],
   "source": [
    "aioe = pd.read_excel('datasets/AIOE_DataAppendix.xlsx', sheet_name='Appendix A')"
   ]
  },
  {
   "cell_type": "code",
   "execution_count": 35,
   "metadata": {},
   "outputs": [],
   "source": [
    "aioe_replicated = pd.merge(\n",
    "    aioe_a,\n",
    "    aioe,\n",
    "    how='left',\n",
    "    on='SOC Code',\n",
    ")"
   ]
  },
  {
   "cell_type": "code",
   "execution_count": 37,
   "metadata": {},
   "outputs": [],
   "source": [
    "table = aioe_replicated[['aioe', 'AIOE']]"
   ]
  },
  {
   "cell_type": "code",
   "execution_count": 38,
   "metadata": {},
   "outputs": [],
   "source": [
    "data = aioe_replicated.dropna()"
   ]
  },
  {
   "cell_type": "code",
   "execution_count": 39,
   "metadata": {},
   "outputs": [],
   "source": [
    "from scipy.stats import spearmanr, pearsonr\n",
    "\n",
    "rho, pval = pearsonr(data['AIOE'], data['aioe'])"
   ]
  },
  {
   "cell_type": "code",
   "execution_count": 41,
   "metadata": {},
   "outputs": [
    {
     "data": {
      "image/png": "[encoded data removed]",
      "text/plain": [
       "<Figure size 640x480 with 1 Axes>"
      ]
     },
     "metadata": {},
     "output_type": "display_data"
    }
   ],
   "source": [
    "from sklearn.preprocessing import StandardScaler\n",
    "\n",
    "scaler = StandardScaler()\n",
    "sns.regplot(\n",
    "    x='aioe',\n",
    "    y='AIOE',\n",
    "    data=data,\n",
    "    scatter_kws=dict(\n",
    "        marker='.',\n",
    "        alpha=.3,\n",
    "    )\n",
    ")\n",
    "plt.title(f\"Pearson's r = {rho:.2f}\")\n",
    "plt.xlabel('Similarity-based AIOE')\n",
    "plt.ylabel('AIOE')\n",
    "sns.despine()\n",
    "plt.savefig('figures/aioe.pdf', bbox_inches='tight')"
   ]
  }
 ],
 "metadata": {
  "kernelspec": {
   "display_name": "base",
   "language": "python",
   "name": "python3"
  },
  "language_info": {
   "codemirror_mode": {
    "name": "ipython",
    "version": 3
   },
   "file_extension": ".py",
   "mimetype": "text/x-python",
   "name": "python",
   "nbconvert_exporter": "python",
   "pygments_lexer": "ipython3",
   "version": "3.10.14"
  },
  "orig_nbformat": 4
 },
 "nbformat": 4,
 "nbformat_minor": 2
}
