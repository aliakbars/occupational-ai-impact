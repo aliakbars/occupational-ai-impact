{
 "cells": [
  {
   "cell_type": "code",
   "execution_count": 2,
   "metadata": {},
   "outputs": [],
   "source": [
    "import matplotlib.pyplot as plt\n",
    "import numpy as np\n",
    "import pandas as pd\n",
    "import polars as pl\n",
    "import seaborn as sns\n",
    "\n",
    "from sentence_transformers import SentenceTransformer\n",
    "from sklearn.metrics.pairwise import cosine_similarity"
   ]
  },
  {
   "cell_type": "markdown",
   "metadata": {},
   "source": [
    "# AII"
   ]
  },
  {
   "cell_type": "code",
   "execution_count": 3,
   "metadata": {},
   "outputs": [],
   "source": [
    "keywords = [\n",
    "    'machine learning',\n",
    "    'deep learning',\n",
    "    'artificial intelligence',\n",
    "    'reinforcement learning',\n",
    "    'neural network',\n",
    "    # 'image recognition',\n",
    "    'computer vision',\n",
    "    'natural language processing',\n",
    "    # 'model training',\n",
    "    # 'inference',\n",
    "    # 'hyperparameter',\n",
    "    'speech processing',\n",
    "    'control methods',\n",
    "    'knowledge representation',\n",
    "    'planning',\n",
    "    'predictive analytics',\n",
    "    'robotics',\n",
    "]"
   ]
  },
  {
   "cell_type": "code",
   "execution_count": 4,
   "metadata": {},
   "outputs": [],
   "source": [
    "patents = (\n",
    "    pl.read_ndjson('datasets/bq-results-20240320-172635-1710955681787.json')\n",
    "    .with_columns(pl.col('publication_date').str.slice(0, 4).cast(int).alias('year'))\n",
    "    .to_pandas()\n",
    ")"
   ]
  },
  {
   "cell_type": "code",
   "execution_count": 5,
   "metadata": {},
   "outputs": [],
   "source": [
    "from sklearn.feature_extraction.text import CountVectorizer\n",
    "\n",
    "vec = CountVectorizer(lowercase=True, ngram_range=(1, 3), vocabulary=keywords, binary=True)\n",
    "# X = vec.fit_transform(patents[patents['year'].ge(2015) & patents['year'].le(2020)].abstract.values)\n",
    "X = vec.fit_transform(patents.abstract.values)"
   ]
  },
  {
   "cell_type": "code",
   "execution_count": 6,
   "metadata": {},
   "outputs": [
    {
     "name": "stdout",
     "output_type": "stream",
     "text": [
      "\\begin{tabular}{lr}\n",
      " & freq \\\\\n",
      "keywords &  \\\\\n",
      "machine learning & 25411 \\\\\n",
      "deep learning & 15335 \\\\\n",
      "artificial intelligence & 11497 \\\\\n",
      "reinforcement learning & 1853 \\\\\n",
      "neural network & 44322 \\\\\n",
      "computer vision & 3262 \\\\\n",
      "natural language processing & 1238 \\\\\n",
      "speech processing & 302 \\\\\n",
      "control methods & 282 \\\\\n",
      "knowledge representation & 35 \\\\\n",
      "planning & 4677 \\\\\n",
      "predictive analytics & 77 \\\\\n",
      "robotics & 163 \\\\\n",
      "\\end{tabular}\n",
      "\n"
     ]
    }
   ],
   "source": [
    "total = pd.DataFrame({\n",
    "    'keywords': keywords,\n",
    "    'freq': np.array(X.sum(axis=0)).flatten()\n",
    "})\n",
    "print(\n",
    "    total.set_index('keywords')\n",
    "    .style.to_latex()\n",
    ")"
   ]
  },
  {
   "cell_type": "code",
   "execution_count": 7,
   "metadata": {},
   "outputs": [
    {
     "data": {
      "text/plain": [
       "matrix([[94514]])"
      ]
     },
     "execution_count": 7,
     "metadata": {},
     "output_type": "execute_result"
    }
   ],
   "source": [
    "(X.sum(axis=1) != 0).sum(axis=0)"
   ]
  },
  {
   "cell_type": "code",
   "execution_count": 8,
   "metadata": {},
   "outputs": [],
   "source": [
    "patent_mask = (np.array(X.sum(axis=1)) != 0).flatten()\n",
    "year_mask = patents['year'].ge(2015) & patents['year'].le(2022)\n",
    "country_mask = patents['country_code'].isin(['US', 'CN', 'KR', 'JP'])\n",
    "patents = patents[\n",
    "    patent_mask\n",
    "    & year_mask\n",
    "    & country_mask\n",
    "].reset_index(drop=True).copy()"
   ]
  },
  {
   "cell_type": "code",
   "execution_count": 9,
   "metadata": {},
   "outputs": [],
   "source": [
    "abstract_embeddings = np.load('datasets/all_abstract_embeddings.npy')\n",
    "abstract_embeddings = abstract_embeddings[\n",
    "    patent_mask\n",
    "    & year_mask\n",
    "    & country_mask\n",
    "].copy()"
   ]
  },
  {
   "cell_type": "code",
   "execution_count": 10,
   "metadata": {},
   "outputs": [],
   "source": [
    "assert patents.shape[0] == abstract_embeddings.shape[0]"
   ]
  },
  {
   "cell_type": "code",
   "execution_count": 11,
   "metadata": {},
   "outputs": [],
   "source": [
    "task_ratings = pd.read_csv('datasets/db_26_3_text/Task Ratings.txt', sep='\\t').query('`Scale ID` == \"IM\"')\n",
    "task_statements = pd.read_csv('datasets/db_26_3_text/Task Statements.txt', sep='\\t')\n",
    "jobs = pd.read_csv('datasets/db_26_3_text/Occupation Data.txt', sep='\\t')\n",
    "jobs['SOC Code'] = jobs['O*NET-SOC Code'].str[:7]"
   ]
  },
  {
   "cell_type": "code",
   "execution_count": 12,
   "metadata": {},
   "outputs": [],
   "source": [
    "tasks = pd.merge(\n",
    "    task_ratings,\n",
    "    task_statements[['O*NET-SOC Code', 'Task ID', 'Task']],\n",
    "    how='left',\n",
    "    on=['O*NET-SOC Code', 'Task ID']\n",
    ")"
   ]
  },
  {
   "cell_type": "code",
   "execution_count": 13,
   "metadata": {},
   "outputs": [
    {
     "data": {
      "text/plain": [
       "(17879, 13)"
      ]
     },
     "execution_count": 13,
     "metadata": {},
     "output_type": "execute_result"
    }
   ],
   "source": [
    "tasks.shape"
   ]
  },
  {
   "cell_type": "code",
   "execution_count": 14,
   "metadata": {},
   "outputs": [],
   "source": [
    "# task_embeddings = model.encode(tasks['Task'].values)\n",
    "# np.save('datasets/task_embeddings_t5.npy', task_embeddings)\n",
    "task_embeddings = np.load('datasets/task_embeddings_26_3.npy')"
   ]
  },
  {
   "cell_type": "code",
   "execution_count": 15,
   "metadata": {},
   "outputs": [],
   "source": [
    "def compute_scores(task_embeddings, abstract_embeddings, tasks, jobs, aioe=None, threshold=0.8):\n",
    "    similarity = cosine_similarity(\n",
    "        task_embeddings,\n",
    "        abstract_embeddings\n",
    "    )\n",
    "\n",
    "    task_df = tasks.copy()\n",
    "\n",
    "    # threshold = task_df['similarity'].quantile(.95)\n",
    "    task_df['similarity'] = similarity.max(axis=1)\n",
    "    task_df['patent_index'] = similarity.argmax(axis=1)\n",
    "    task_df['weight'] = task_df['Data Value'] / task_df.groupby('O*NET-SOC Code')['Data Value'].transform('sum')\n",
    "    # task_df['similarity_t'] = task_df['similarity'] * (task_df['similarity'] > threshold).astype(int)\n",
    "    # task_df['aii'] = task_df['similarity'] * task_df['weight']\n",
    "    task_df['aii'] = task_df['similarity'].gt(threshold)\n",
    "\n",
    "    jobs_aii = pd.merge(\n",
    "        task_df.groupby('O*NET-SOC Code').agg({'aii': 'mean'}).reset_index(),\n",
    "        jobs,\n",
    "        how='left',\n",
    "        on='O*NET-SOC Code'\n",
    "    )\n",
    "\n",
    "    if aioe is not None:\n",
    "        data = pd.merge(\n",
    "            aioe,\n",
    "            jobs_aii.groupby('SOC Code').aii.mean().reset_index(),\n",
    "            how='left',\n",
    "            on='SOC Code'\n",
    "        ).rename({'AIOE': 'aioe'}, axis=1)\n",
    "\n",
    "        return data\n",
    "    else:\n",
    "        return jobs_aii"
   ]
  },
  {
   "cell_type": "code",
   "execution_count": 16,
   "metadata": {},
   "outputs": [],
   "source": [
    "similarity = cosine_similarity(\n",
    "    task_embeddings,\n",
    "    abstract_embeddings\n",
    ")"
   ]
  },
  {
   "cell_type": "code",
   "execution_count": 17,
   "metadata": {},
   "outputs": [
    {
     "name": "stdout",
     "output_type": "stream",
     "text": [
      "Tasks: 17,879\n",
      "Patents: 60,924\n"
     ]
    }
   ],
   "source": [
    "print(f\"Tasks: {similarity.shape[0]:,.0f}\")\n",
    "print(f\"Patents: {similarity.shape[1]:,.0f}\")"
   ]
  },
  {
   "cell_type": "code",
   "execution_count": 18,
   "metadata": {},
   "outputs": [],
   "source": [
    "p_threshold = .90\n",
    "\n",
    "tasks['similarity'] = similarity.max(axis=1)\n",
    "tasks['patent_index'] = similarity.argmax(axis=1)\n",
    "# tasks['weight'] = tasks['Data Value'] / tasks.groupby('O*NET-SOC Code')['Data Value'].transform('sum')\n",
    "tasks['similarity_t'] = tasks['similarity'] * (tasks['similarity'] > tasks['similarity'].quantile(p_threshold)).astype(int)\n",
    "tasks['s'] = tasks['similarity'].gt(tasks['similarity'].quantile(p_threshold))\n",
    "# tasks['aii'] = tasks['similarity'] * tasks['weight']"
   ]
  },
  {
   "cell_type": "code",
   "execution_count": 19,
   "metadata": {},
   "outputs": [
    {
     "name": "stdout",
     "output_type": "stream",
     "text": [
      "Similarity threshold: 0.81\n"
     ]
    }
   ],
   "source": [
    "print(f\"Similarity threshold: {tasks['similarity'].quantile(p_threshold):.2f}\")"
   ]
  },
  {
   "cell_type": "code",
   "execution_count": 20,
   "metadata": {},
   "outputs": [
    {
     "name": "stderr",
     "output_type": "stream",
     "text": [
      "/Users/aliakbars/miniforge3/lib/python3.10/site-packages/seaborn/_oldcore.py:1498: FutureWarning: is_categorical_dtype is deprecated and will be removed in a future version. Use isinstance(dtype, CategoricalDtype) instead\n",
      "  if pd.api.types.is_categorical_dtype(vector):\n",
      "/Users/aliakbars/miniforge3/lib/python3.10/site-packages/seaborn/_oldcore.py:1119: FutureWarning: use_inf_as_na option is deprecated and will be removed in a future version. Convert inf values to NaN before operating instead.\n",
      "  with pd.option_context('mode.use_inf_as_na', True):\n"
     ]
    },
    {
     "data": {
      "image/png": "[encoded data removed]",
      "text/plain": [
       "<Figure size 640x480 with 1 Axes>"
      ]
     },
     "metadata": {},
     "output_type": "display_data"
    }
   ],
   "source": [
    "sns.histplot(x=tasks['similarity'], bins=30)\n",
    "plt.axvline(tasks['similarity'].quantile(p_threshold), linestyle='--', c='C1')\n",
    "sns.despine()"
   ]
  },
  {
   "cell_type": "code",
   "execution_count": 21,
   "metadata": {},
   "outputs": [],
   "source": [
    "jobs_aii = (\n",
    "    pl.from_dataframe(tasks)\n",
    "    .group_by('O*NET-SOC Code')\n",
    "    .agg(\n",
    "        pl.col('s').mean().alias('aii'),\n",
    "        pl.col('s').sum().alias('nb_impacted_tasks'),\n",
    "        pl.col('s').count().alias('total_tasks'),\n",
    "    )\n",
    "    .join(\n",
    "        pl.from_dataframe(jobs),\n",
    "        how='left',\n",
    "        on='O*NET-SOC Code'\n",
    "    )\n",
    "    .to_pandas()\n",
    ")"
   ]
  },
  {
   "cell_type": "code",
   "execution_count": 22,
   "metadata": {},
   "outputs": [],
   "source": [
    "aioe = pd.read_excel('datasets/AIOE_DataAppendix.xlsx', sheet_name='Appendix A')"
   ]
  },
  {
   "cell_type": "code",
   "execution_count": 23,
   "metadata": {},
   "outputs": [],
   "source": [
    "# Joining the data with AIOE for comparison\n",
    "data = (\n",
    "    (\n",
    "        pl.from_dataframe(jobs_aii)\n",
    "        .group_by('SOC Code')\n",
    "        .agg(\n",
    "            pl.col('Title').first(),\n",
    "            pl.col('nb_impacted_tasks').sum(),\n",
    "            pl.col('total_tasks').sum(),\n",
    "            pl.col('nb_impacted_tasks').sum().truediv(pl.col('total_tasks').sum()).alias('aii')\n",
    "        )\n",
    "    )\n",
    "    .join(\n",
    "        pl.from_dataframe(aioe),\n",
    "        how='left',\n",
    "        on='SOC Code'\n",
    "    )\n",
    "    .to_pandas()\n",
    ").rename({'AIOE': 'aioe'}, axis=1)"
   ]
  },
  {
   "cell_type": "code",
   "execution_count": 24,
   "metadata": {},
   "outputs": [
    {
     "data": {
      "text/html": [
       "<div>\n",
       "<style scoped>\n",
       "    .dataframe tbody tr th:only-of-type {\n",
       "        vertical-align: middle;\n",
       "    }\n",
       "\n",
       "    .dataframe tbody tr th {\n",
       "        vertical-align: top;\n",
       "    }\n",
       "\n",
       "    .dataframe thead th {\n",
       "        text-align: right;\n",
       "    }\n",
       "</style>\n",
       "<table border=\"1\" class=\"dataframe\">\n",
       "  <thead>\n",
       "    <tr style=\"text-align: right;\">\n",
       "      <th></th>\n",
       "      <th>SOC Code</th>\n",
       "      <th>Title</th>\n",
       "      <th>nb_impacted_tasks</th>\n",
       "      <th>total_tasks</th>\n",
       "      <th>aii</th>\n",
       "      <th>Occupation Title</th>\n",
       "      <th>aioe</th>\n",
       "    </tr>\n",
       "  </thead>\n",
       "  <tbody>\n",
       "    <tr>\n",
       "      <th>0</th>\n",
       "      <td>25-1042</td>\n",
       "      <td>Biological Science Teachers, Postsecondary</td>\n",
       "      <td>0</td>\n",
       "      <td>27</td>\n",
       "      <td>0.000000</td>\n",
       "      <td>Biological Science Teachers, Postsecondary</td>\n",
       "      <td>1.227677</td>\n",
       "    </tr>\n",
       "    <tr>\n",
       "      <th>1</th>\n",
       "      <td>15-1299</td>\n",
       "      <td>Information Technology Project Managers</td>\n",
       "      <td>24</td>\n",
       "      <td>133</td>\n",
       "      <td>0.180451</td>\n",
       "      <td>None</td>\n",
       "      <td>NaN</td>\n",
       "    </tr>\n",
       "    <tr>\n",
       "      <th>2</th>\n",
       "      <td>19-4043</td>\n",
       "      <td>Geological Technicians, Except Hydrologic Tech...</td>\n",
       "      <td>6</td>\n",
       "      <td>24</td>\n",
       "      <td>0.250000</td>\n",
       "      <td>None</td>\n",
       "      <td>NaN</td>\n",
       "    </tr>\n",
       "    <tr>\n",
       "      <th>3</th>\n",
       "      <td>11-3031</td>\n",
       "      <td>Treasurers and Controllers</td>\n",
       "      <td>0</td>\n",
       "      <td>63</td>\n",
       "      <td>0.000000</td>\n",
       "      <td>Financial Managers</td>\n",
       "      <td>1.446232</td>\n",
       "    </tr>\n",
       "    <tr>\n",
       "      <th>4</th>\n",
       "      <td>15-1253</td>\n",
       "      <td>Software Quality Assurance Analysts and Testers</td>\n",
       "      <td>4</td>\n",
       "      <td>27</td>\n",
       "      <td>0.148148</td>\n",
       "      <td>None</td>\n",
       "      <td>NaN</td>\n",
       "    </tr>\n",
       "  </tbody>\n",
       "</table>\n",
       "</div>"
      ],
      "text/plain": [
       "  SOC Code                                              Title  \\\n",
       "0  25-1042         Biological Science Teachers, Postsecondary   \n",
       "1  15-1299            Information Technology Project Managers   \n",
       "2  19-4043  Geological Technicians, Except Hydrologic Tech...   \n",
       "3  11-3031                         Treasurers and Controllers   \n",
       "4  15-1253    Software Quality Assurance Analysts and Testers   \n",
       "\n",
       "   nb_impacted_tasks  total_tasks       aii  \\\n",
       "0                  0           27  0.000000   \n",
       "1                 24          133  0.180451   \n",
       "2                  6           24  0.250000   \n",
       "3                  0           63  0.000000   \n",
       "4                  4           27  0.148148   \n",
       "\n",
       "                             Occupation Title      aioe  \n",
       "0  Biological Science Teachers, Postsecondary  1.227677  \n",
       "1                                        None       NaN  \n",
       "2                                        None       NaN  \n",
       "3                          Financial Managers  1.446232  \n",
       "4                                        None       NaN  "
      ]
     },
     "execution_count": 24,
     "metadata": {},
     "output_type": "execute_result"
    }
   ],
   "source": [
    "data.head()"
   ]
  },
  {
   "cell_type": "code",
   "execution_count": 25,
   "metadata": {},
   "outputs": [
    {
     "data": {
      "text/plain": [
       "count    759.000000\n",
       "mean      23.555995\n",
       "std       15.530011\n",
       "min        4.000000\n",
       "25%       16.000000\n",
       "50%       20.000000\n",
       "75%       26.000000\n",
       "max      170.000000\n",
       "Name: total_tasks, dtype: float64"
      ]
     },
     "execution_count": 25,
     "metadata": {},
     "output_type": "execute_result"
    }
   ],
   "source": [
    "data['total_tasks'].describe()"
   ]
  },
  {
   "cell_type": "code",
   "execution_count": 26,
   "metadata": {},
   "outputs": [],
   "source": [
    "tasks['SOC Code'] = tasks['O*NET-SOC Code'].str.slice(0, 7)"
   ]
  },
  {
   "cell_type": "code",
   "execution_count": 27,
   "metadata": {},
   "outputs": [
    {
     "data": {
      "text/html": [
       "<div>\n",
       "<style scoped>\n",
       "    .dataframe tbody tr th:only-of-type {\n",
       "        vertical-align: middle;\n",
       "    }\n",
       "\n",
       "    .dataframe tbody tr th {\n",
       "        vertical-align: top;\n",
       "    }\n",
       "\n",
       "    .dataframe thead th {\n",
       "        text-align: right;\n",
       "    }\n",
       "</style>\n",
       "<table border=\"1\" class=\"dataframe\">\n",
       "  <thead>\n",
       "    <tr style=\"text-align: right;\">\n",
       "      <th></th>\n",
       "      <th>Highest scoring</th>\n",
       "      <th>Lowest scoring</th>\n",
       "    </tr>\n",
       "  </thead>\n",
       "  <tbody>\n",
       "    <tr>\n",
       "      <th>0</th>\n",
       "      <td>Nuclear Medicine Technologists</td>\n",
       "      <td>Pile Driver Operators</td>\n",
       "    </tr>\n",
       "    <tr>\n",
       "      <th>1</th>\n",
       "      <td>Sound Engineering Technicians</td>\n",
       "      <td>Graders and Sorters, Agricultural Products</td>\n",
       "    </tr>\n",
       "    <tr>\n",
       "      <th>2</th>\n",
       "      <td>Cardiovascular Technologists and Technicians</td>\n",
       "      <td>Floor Sanders and Finishers</td>\n",
       "    </tr>\n",
       "    <tr>\n",
       "      <th>3</th>\n",
       "      <td>Power Distributors and Dispatchers</td>\n",
       "      <td>Reinforcing Iron and Rebar Workers</td>\n",
       "    </tr>\n",
       "    <tr>\n",
       "      <th>4</th>\n",
       "      <td>Air Traffic Controllers</td>\n",
       "      <td>Insurance Underwriters</td>\n",
       "    </tr>\n",
       "    <tr>\n",
       "      <th>5</th>\n",
       "      <td>Magnetic Resonance Imaging Technologists</td>\n",
       "      <td>Administrative Services Managers</td>\n",
       "    </tr>\n",
       "    <tr>\n",
       "      <th>6</th>\n",
       "      <td>Electro-Mechanical and Mechatronics Technologi...</td>\n",
       "      <td>Farm Labor Contractors</td>\n",
       "    </tr>\n",
       "    <tr>\n",
       "      <th>7</th>\n",
       "      <td>Orthodontists</td>\n",
       "      <td>Rock Splitters, Quarry</td>\n",
       "    </tr>\n",
       "    <tr>\n",
       "      <th>8</th>\n",
       "      <td>Non-Destructive Testing Specialists</td>\n",
       "      <td>Brokerage Clerks</td>\n",
       "    </tr>\n",
       "    <tr>\n",
       "      <th>9</th>\n",
       "      <td>Remote Sensing Scientists and Technologists</td>\n",
       "      <td>Pesticide Handlers, Sprayers, and Applicators,...</td>\n",
       "    </tr>\n",
       "    <tr>\n",
       "      <th>10</th>\n",
       "      <td>Neurologists</td>\n",
       "      <td>Proofreaders and Copy Markers</td>\n",
       "    </tr>\n",
       "    <tr>\n",
       "      <th>11</th>\n",
       "      <td>Machinists</td>\n",
       "      <td>Shipping, Receiving, and Inventory Clerks</td>\n",
       "    </tr>\n",
       "    <tr>\n",
       "      <th>12</th>\n",
       "      <td>Special Effects Artists and Animators</td>\n",
       "      <td>Helpers--Painters, Paperhangers, Plasterers, a...</td>\n",
       "    </tr>\n",
       "    <tr>\n",
       "      <th>13</th>\n",
       "      <td>Security Guards</td>\n",
       "      <td>Podiatrists</td>\n",
       "    </tr>\n",
       "    <tr>\n",
       "      <th>14</th>\n",
       "      <td>Crossing Guards and Flaggers</td>\n",
       "      <td>Management Analysts</td>\n",
       "    </tr>\n",
       "    <tr>\n",
       "      <th>15</th>\n",
       "      <td>Radiologists</td>\n",
       "      <td>Team Assemblers</td>\n",
       "    </tr>\n",
       "    <tr>\n",
       "      <th>16</th>\n",
       "      <td>Computer Numerically Controlled Tool Operators</td>\n",
       "      <td>Cooks, Short Order</td>\n",
       "    </tr>\n",
       "    <tr>\n",
       "      <th>17</th>\n",
       "      <td>Textile Knitting and Weaving Machine Setters, ...</td>\n",
       "      <td>Door-to-Door Sales Workers, News and Street Ve...</td>\n",
       "    </tr>\n",
       "    <tr>\n",
       "      <th>18</th>\n",
       "      <td>Public Safety Telecommunicators</td>\n",
       "      <td>Packers and Packagers, Hand</td>\n",
       "    </tr>\n",
       "    <tr>\n",
       "      <th>19</th>\n",
       "      <td>Microsystems Engineers</td>\n",
       "      <td>Segmental Pavers</td>\n",
       "    </tr>\n",
       "  </tbody>\n",
       "</table>\n",
       "</div>"
      ],
      "text/plain": [
       "                                      Highest scoring  \\\n",
       "0                      Nuclear Medicine Technologists   \n",
       "1                       Sound Engineering Technicians   \n",
       "2        Cardiovascular Technologists and Technicians   \n",
       "3                  Power Distributors and Dispatchers   \n",
       "4                             Air Traffic Controllers   \n",
       "5            Magnetic Resonance Imaging Technologists   \n",
       "6   Electro-Mechanical and Mechatronics Technologi...   \n",
       "7                                       Orthodontists   \n",
       "8                 Non-Destructive Testing Specialists   \n",
       "9         Remote Sensing Scientists and Technologists   \n",
       "10                                       Neurologists   \n",
       "11                                         Machinists   \n",
       "12              Special Effects Artists and Animators   \n",
       "13                                    Security Guards   \n",
       "14                       Crossing Guards and Flaggers   \n",
       "15                                       Radiologists   \n",
       "16     Computer Numerically Controlled Tool Operators   \n",
       "17  Textile Knitting and Weaving Machine Setters, ...   \n",
       "18                    Public Safety Telecommunicators   \n",
       "19                             Microsystems Engineers   \n",
       "\n",
       "                                       Lowest scoring  \n",
       "0                               Pile Driver Operators  \n",
       "1          Graders and Sorters, Agricultural Products  \n",
       "2                         Floor Sanders and Finishers  \n",
       "3                  Reinforcing Iron and Rebar Workers  \n",
       "4                              Insurance Underwriters  \n",
       "5                    Administrative Services Managers  \n",
       "6                              Farm Labor Contractors  \n",
       "7                              Rock Splitters, Quarry  \n",
       "8                                    Brokerage Clerks  \n",
       "9   Pesticide Handlers, Sprayers, and Applicators,...  \n",
       "10                      Proofreaders and Copy Markers  \n",
       "11          Shipping, Receiving, and Inventory Clerks  \n",
       "12  Helpers--Painters, Paperhangers, Plasterers, a...  \n",
       "13                                        Podiatrists  \n",
       "14                                Management Analysts  \n",
       "15                                    Team Assemblers  \n",
       "16                                 Cooks, Short Order  \n",
       "17  Door-to-Door Sales Workers, News and Street Ve...  \n",
       "18                        Packers and Packagers, Hand  \n",
       "19                                   Segmental Pavers  "
      ]
     },
     "execution_count": 27,
     "metadata": {},
     "output_type": "execute_result"
    }
   ],
   "source": [
    "pd.DataFrame({\n",
    "    'Highest scoring': data.nlargest(20, ['aii', 'total_tasks'])['Title'].reset_index(drop=True),\n",
    "    'Lowest scoring': data.nsmallest(20, ['aii', 'total_tasks'])['Title'].reset_index(drop=True),\n",
    "})"
   ]
  },
  {
   "cell_type": "code",
   "execution_count": 28,
   "metadata": {},
   "outputs": [
    {
     "name": "stdout",
     "output_type": "stream",
     "text": [
      "\\begin{tabular}{lll}\n",
      " & Highest scoring & Lowest scoring \\\\\n",
      "0 & Nuclear Medicine Technologists & Pile Driver Operators \\\\\n",
      "1 & Sound Engineering Technicians & Graders and Sorters, Agricultural Products \\\\\n",
      "2 & Cardiovascular Technologists and Technicians & Floor Sanders and Finishers \\\\\n",
      "3 & Power Distributors and Dispatchers & Reinforcing Iron and Rebar Workers \\\\\n",
      "4 & Air Traffic Controllers & Insurance Underwriters \\\\\n",
      "5 & Magnetic Resonance Imaging Technologists & Administrative Services Managers \\\\\n",
      "6 & Electro-Mechanical and Mechatronics Technologists and Technicians & Farm Labor Contractors \\\\\n",
      "7 & Orthodontists & Rock Splitters, Quarry \\\\\n",
      "8 & Non-Destructive Testing Specialists & Brokerage Clerks \\\\\n",
      "9 & Remote Sensing Scientists and Technologists & Pesticide Handlers, Sprayers, and Applicators, Vegetation \\\\\n",
      "10 & Neurologists & Proofreaders and Copy Markers \\\\\n",
      "11 & Machinists & Shipping, Receiving, and Inventory Clerks \\\\\n",
      "12 & Special Effects Artists and Animators & Helpers--Painters, Paperhangers, Plasterers, and Stucco Masons \\\\\n",
      "13 & Security Guards & Podiatrists \\\\\n",
      "14 & Crossing Guards and Flaggers & Management Analysts \\\\\n",
      "15 & Radiologists & Team Assemblers \\\\\n",
      "16 & Computer Numerically Controlled Tool Operators & Cooks, Short Order \\\\\n",
      "17 & Textile Knitting and Weaving Machine Setters, Operators, and Tenders & Door-to-Door Sales Workers, News and Street Vendors, and Related Workers \\\\\n",
      "18 & Public Safety Telecommunicators & Packers and Packagers, Hand \\\\\n",
      "19 & Microsystems Engineers & Segmental Pavers \\\\\n",
      "\\end{tabular}\n",
      "\n"
     ]
    }
   ],
   "source": [
    "print(pd.DataFrame({\n",
    "    'Highest scoring': data.nlargest(20, ['aii', 'total_tasks'])['Title'].reset_index(drop=True),\n",
    "    'Lowest scoring': data.nsmallest(20, ['aii', 'total_tasks'])['Title'].reset_index(drop=True),\n",
    "}).style.to_latex())"
   ]
  },
  {
   "cell_type": "code",
   "execution_count": 29,
   "metadata": {},
   "outputs": [],
   "source": [
    "aii = pl.read_csv('datasets/2022/aii.csv').to_pandas()"
   ]
  },
  {
   "cell_type": "code",
   "execution_count": 30,
   "metadata": {},
   "outputs": [],
   "source": [
    "assert data.shape[0] == aii.shape[0]"
   ]
  },
  {
   "cell_type": "code",
   "execution_count": 34,
   "metadata": {},
   "outputs": [],
   "source": [
    "joint = pd.merge(\n",
    "    aii[['SOC Code', 'aii']],\n",
    "    data[['SOC Code', 'Title', 'aii']],\n",
    "    how='inner',\n",
    "    on='SOC Code',\n",
    "    suffixes=('', '_aug')\n",
    ")"
   ]
  },
  {
   "cell_type": "code",
   "execution_count": 35,
   "metadata": {},
   "outputs": [],
   "source": [
    "joint.to_csv('datasets/2022/aii_non_us.csv', index=False)"
   ]
  },
  {
   "cell_type": "code",
   "execution_count": 36,
   "metadata": {},
   "outputs": [
    {
     "name": "stdout",
     "output_type": "stream",
     "text": [
      "Spearman's r = 0.90\n"
     ]
    }
   ],
   "source": [
    "from scipy.stats import spearmanr, kendalltau\n",
    "\n",
    "rho, pval = spearmanr(joint['aii_aug'], joint['aii'])\n",
    "print(f\"Spearman's r = {rho:.2f}\")"
   ]
  },
  {
   "cell_type": "code",
   "execution_count": 37,
   "metadata": {},
   "outputs": [
    {
     "data": {
      "image/png": "[encoded data removed]",
      "text/plain": [
       "<Figure size 640x480 with 1 Axes>"
      ]
     },
     "metadata": {},
     "output_type": "display_data"
    }
   ],
   "source": [
    "from scipy.stats import pearsonr\n",
    "\n",
    "rho, pval = pearsonr(joint['aii_aug'], joint['aii'])\n",
    "sns.regplot(\n",
    "    x='aii_aug',\n",
    "    y='aii',\n",
    "    data=joint\n",
    ")\n",
    "plt.title(f\"Pearson's r = {rho:.2f}\")\n",
    "plt.xlabel('AII (US, CN, KR, JP)')\n",
    "plt.ylabel('AII (US)')\n",
    "sns.despine()\n",
    "plt.savefig('figures/2022/aii-non-us.pdf', bbox_inches='tight')"
   ]
  },
  {
   "cell_type": "code",
   "execution_count": 38,
   "metadata": {},
   "outputs": [],
   "source": [
    "joint['aii_rank'] = joint['aii'].rank(method='dense')\n",
    "joint['aii_aug_rank'] = joint['aii_aug'].rank(method='dense')\n",
    "joint['rank_diff'] = joint['aii_rank'] - joint['aii_aug_rank']"
   ]
  },
  {
   "cell_type": "code",
   "execution_count": 39,
   "metadata": {},
   "outputs": [
    {
     "data": {
      "text/html": [
       "<style type=\"text/css\">\n",
       "</style>\n",
       "<table id=\"T_8195d\">\n",
       "  <thead>\n",
       "    <tr>\n",
       "      <th class=\"blank level0\" >&nbsp;</th>\n",
       "      <th id=\"T_8195d_level0_col0\" class=\"col_heading level0 col0\" >aii</th>\n",
       "      <th id=\"T_8195d_level0_col1\" class=\"col_heading level0 col1\" >aii_aug</th>\n",
       "    </tr>\n",
       "    <tr>\n",
       "      <th class=\"index_name level0\" >Title</th>\n",
       "      <th class=\"blank col0\" >&nbsp;</th>\n",
       "      <th class=\"blank col1\" >&nbsp;</th>\n",
       "    </tr>\n",
       "  </thead>\n",
       "  <tbody>\n",
       "    <tr>\n",
       "      <th id=\"T_8195d_level0_row0\" class=\"row_heading level0 row0\" >Pesticide Handlers, Sprayers, and Applicators, Vegetation</th>\n",
       "      <td id=\"T_8195d_row0_col0\" class=\"data row0 col0\" >0.20</td>\n",
       "      <td id=\"T_8195d_row0_col1\" class=\"data row0 col1\" >0.00</td>\n",
       "    </tr>\n",
       "    <tr>\n",
       "      <th id=\"T_8195d_level0_row1\" class=\"row_heading level0 row1\" >Amusement and Recreation Attendants</th>\n",
       "      <td id=\"T_8195d_row1_col0\" class=\"data row1 col0\" >0.11</td>\n",
       "      <td id=\"T_8195d_row1_col1\" class=\"data row1 col1\" >0.00</td>\n",
       "    </tr>\n",
       "    <tr>\n",
       "      <th id=\"T_8195d_level0_row2\" class=\"row_heading level0 row2\" >File Clerks</th>\n",
       "      <td id=\"T_8195d_row2_col0\" class=\"data row2 col0\" >0.16</td>\n",
       "      <td id=\"T_8195d_row2_col1\" class=\"data row2 col1\" >0.05</td>\n",
       "    </tr>\n",
       "    <tr>\n",
       "      <th id=\"T_8195d_level0_row3\" class=\"row_heading level0 row3\" >Mathematicians</th>\n",
       "      <td id=\"T_8195d_row3_col0\" class=\"data row3 col0\" >0.36</td>\n",
       "      <td id=\"T_8195d_row3_col1\" class=\"data row3 col1\" >0.18</td>\n",
       "    </tr>\n",
       "    <tr>\n",
       "      <th id=\"T_8195d_level0_row4\" class=\"row_heading level0 row4\" >Earth Drillers, Except Oil and Gas</th>\n",
       "      <td id=\"T_8195d_row4_col0\" class=\"data row4 col0\" >0.28</td>\n",
       "      <td id=\"T_8195d_row4_col1\" class=\"data row4 col1\" >0.14</td>\n",
       "    </tr>\n",
       "    <tr>\n",
       "      <th id=\"T_8195d_level0_row5\" class=\"row_heading level0 row5\" >Travel Agents</th>\n",
       "      <td id=\"T_8195d_row5_col0\" class=\"data row5 col0\" >0.25</td>\n",
       "      <td id=\"T_8195d_row5_col1\" class=\"data row5 col1\" >0.12</td>\n",
       "    </tr>\n",
       "    <tr>\n",
       "      <th id=\"T_8195d_level0_row6\" class=\"row_heading level0 row6\" >Fabric and Apparel Patternmakers</th>\n",
       "      <td id=\"T_8195d_row6_col0\" class=\"data row6 col0\" >0.25</td>\n",
       "      <td id=\"T_8195d_row6_col1\" class=\"data row6 col1\" >0.12</td>\n",
       "    </tr>\n",
       "    <tr>\n",
       "      <th id=\"T_8195d_level0_row7\" class=\"row_heading level0 row7\" >Management Analysts</th>\n",
       "      <td id=\"T_8195d_row7_col0\" class=\"data row7 col0\" >0.09</td>\n",
       "      <td id=\"T_8195d_row7_col1\" class=\"data row7 col1\" >0.00</td>\n",
       "    </tr>\n",
       "    <tr>\n",
       "      <th id=\"T_8195d_level0_row8\" class=\"row_heading level0 row8\" >Animal Caretakers</th>\n",
       "      <td id=\"T_8195d_row8_col0\" class=\"data row8 col0\" >0.14</td>\n",
       "      <td id=\"T_8195d_row8_col1\" class=\"data row8 col1\" >0.05</td>\n",
       "    </tr>\n",
       "    <tr>\n",
       "      <th id=\"T_8195d_level0_row9\" class=\"row_heading level0 row9\" >Data Entry Keyers</th>\n",
       "      <td id=\"T_8195d_row9_col0\" class=\"data row9 col0\" >0.22</td>\n",
       "      <td id=\"T_8195d_row9_col1\" class=\"data row9 col1\" >0.11</td>\n",
       "    </tr>\n",
       "  </tbody>\n",
       "</table>\n"
      ],
      "text/plain": [
       "<pandas.io.formats.style.Styler at 0x33a6b69e0>"
      ]
     },
     "execution_count": 39,
     "metadata": {},
     "output_type": "execute_result"
    }
   ],
   "source": [
    "joint.nlargest(10, 'rank_diff').set_index('Title')[['aii', 'aii_aug']].style.format('{:.2f}')"
   ]
  },
  {
   "cell_type": "code",
   "execution_count": 40,
   "metadata": {},
   "outputs": [
    {
     "data": {
      "text/html": [
       "<style type=\"text/css\">\n",
       "</style>\n",
       "<table id=\"T_87148\">\n",
       "  <thead>\n",
       "    <tr>\n",
       "      <th class=\"blank level0\" >&nbsp;</th>\n",
       "      <th id=\"T_87148_level0_col0\" class=\"col_heading level0 col0\" >aii</th>\n",
       "      <th id=\"T_87148_level0_col1\" class=\"col_heading level0 col1\" >aii_aug</th>\n",
       "    </tr>\n",
       "    <tr>\n",
       "      <th class=\"index_name level0\" >title</th>\n",
       "      <th class=\"blank col0\" >&nbsp;</th>\n",
       "      <th class=\"blank col1\" >&nbsp;</th>\n",
       "    </tr>\n",
       "  </thead>\n",
       "  <tbody>\n",
       "    <tr>\n",
       "      <th id=\"T_87148_level0_row0\" class=\"row_heading level0 row0\" >Dredge Operators</th>\n",
       "      <td id=\"T_87148_row0_col0\" class=\"data row0 col0\" >0.00</td>\n",
       "      <td id=\"T_87148_row0_col1\" class=\"data row0 col1\" >0.33</td>\n",
       "    </tr>\n",
       "    <tr>\n",
       "      <th id=\"T_87148_level0_row1\" class=\"row_heading level0 row1\" >Aircraft Cargo Handling Supervisors</th>\n",
       "      <td id=\"T_87148_row1_col0\" class=\"data row1 col0\" >0.00</td>\n",
       "      <td id=\"T_87148_row1_col1\" class=\"data row1 col1\" >0.17</td>\n",
       "    </tr>\n",
       "    <tr>\n",
       "      <th id=\"T_87148_level0_row2\" class=\"row_heading level0 row2\" >Lathe and Turning Machine Tool Setters, [...]</th>\n",
       "      <td id=\"T_87148_row2_col0\" class=\"data row2 col0\" >0.06</td>\n",
       "      <td id=\"T_87148_row2_col1\" class=\"data row2 col1\" >0.25</td>\n",
       "    </tr>\n",
       "    <tr>\n",
       "      <th id=\"T_87148_level0_row3\" class=\"row_heading level0 row3\" >Dispatchers, Except Police, Fire, and Ambulance</th>\n",
       "      <td id=\"T_87148_row3_col0\" class=\"data row3 col0\" >0.00</td>\n",
       "      <td id=\"T_87148_row3_col1\" class=\"data row3 col1\" >0.15</td>\n",
       "    </tr>\n",
       "    <tr>\n",
       "      <th id=\"T_87148_level0_row4\" class=\"row_heading level0 row4\" >Rail-Track Laying and Maintenance Equipment [...]</th>\n",
       "      <td id=\"T_87148_row4_col0\" class=\"data row4 col0\" >0.08</td>\n",
       "      <td id=\"T_87148_row4_col1\" class=\"data row4 col1\" >0.23</td>\n",
       "    </tr>\n",
       "    <tr>\n",
       "      <th id=\"T_87148_level0_row5\" class=\"row_heading level0 row5\" >Milling and Planing Machine Setters, [...]</th>\n",
       "      <td id=\"T_87148_row5_col0\" class=\"data row5 col0\" >0.07</td>\n",
       "      <td id=\"T_87148_row5_col1\" class=\"data row5 col1\" >0.20</td>\n",
       "    </tr>\n",
       "    <tr>\n",
       "      <th id=\"T_87148_level0_row6\" class=\"row_heading level0 row6\" >Bakers</th>\n",
       "      <td id=\"T_87148_row6_col0\" class=\"data row6 col0\" >0.00</td>\n",
       "      <td id=\"T_87148_row6_col1\" class=\"data row6 col1\" >0.11</td>\n",
       "    </tr>\n",
       "    <tr>\n",
       "      <th id=\"T_87148_level0_row7\" class=\"row_heading level0 row7\" >Solar Photovoltaic Installers</th>\n",
       "      <td id=\"T_87148_row7_col0\" class=\"data row7 col0\" >0.04</td>\n",
       "      <td id=\"T_87148_row7_col1\" class=\"data row7 col1\" >0.15</td>\n",
       "    </tr>\n",
       "    <tr>\n",
       "      <th id=\"T_87148_level0_row8\" class=\"row_heading level0 row8\" >Medical Equipment Repairers</th>\n",
       "      <td id=\"T_87148_row8_col0\" class=\"data row8 col0\" >0.00</td>\n",
       "      <td id=\"T_87148_row8_col1\" class=\"data row8 col1\" >0.11</td>\n",
       "    </tr>\n",
       "    <tr>\n",
       "      <th id=\"T_87148_level0_row9\" class=\"row_heading level0 row9\" >Structural Iron and Steel Workers</th>\n",
       "      <td id=\"T_87148_row9_col0\" class=\"data row9 col0\" >0.00</td>\n",
       "      <td id=\"T_87148_row9_col1\" class=\"data row9 col1\" >0.10</td>\n",
       "    </tr>\n",
       "  </tbody>\n",
       "</table>\n"
      ],
      "text/plain": [
       "<pandas.io.formats.style.Styler at 0x33a6d7dc0>"
      ]
     },
     "execution_count": 40,
     "metadata": {},
     "output_type": "execute_result"
    }
   ],
   "source": [
    "from textwrap import shorten\n",
    "\n",
    "joint.assign(\n",
    "    title=joint['Title'].apply(lambda x: shorten(x, 50))\n",
    ").nsmallest(10, 'rank_diff').set_index('title')[['aii', 'aii_aug']].style.format('{:.2f}')"
   ]
  },
  {
   "cell_type": "code",
   "execution_count": 60,
   "metadata": {},
   "outputs": [
    {
     "data": {
      "text/html": [
       "<div>\n",
       "<style scoped>\n",
       "    .dataframe tbody tr th:only-of-type {\n",
       "        vertical-align: middle;\n",
       "    }\n",
       "\n",
       "    .dataframe tbody tr th {\n",
       "        vertical-align: top;\n",
       "    }\n",
       "\n",
       "    .dataframe thead th {\n",
       "        text-align: right;\n",
       "    }\n",
       "</style>\n",
       "<table border=\"1\" class=\"dataframe\">\n",
       "  <thead>\n",
       "    <tr style=\"text-align: right;\">\n",
       "      <th></th>\n",
       "      <th>publication_number</th>\n",
       "      <th>application_number</th>\n",
       "      <th>publication_date</th>\n",
       "      <th>country_code</th>\n",
       "      <th>title</th>\n",
       "      <th>abstract</th>\n",
       "      <th>year</th>\n",
       "    </tr>\n",
       "  </thead>\n",
       "  <tbody>\n",
       "    <tr>\n",
       "      <th>40831</th>\n",
       "      <td>CN-111957047-A</td>\n",
       "      <td>CN-202010794440-A</td>\n",
       "      <td>20201120</td>\n",
       "      <td>CN</td>\n",
       "      <td>Checkpoint configuration data adjusting method...</td>\n",
       "      <td>The application discloses a checkpoint configu...</td>\n",
       "      <td>2020</td>\n",
       "    </tr>\n",
       "    <tr>\n",
       "      <th>17166</th>\n",
       "      <td>CN-114758002-B</td>\n",
       "      <td>CN-202210670391-A</td>\n",
       "      <td>20220902</td>\n",
       "      <td>CN</td>\n",
       "      <td>Photovoltaic string position determining metho...</td>\n",
       "      <td>The invention discloses a photovoltaic string ...</td>\n",
       "      <td>2022</td>\n",
       "    </tr>\n",
       "    <tr>\n",
       "      <th>12103</th>\n",
       "      <td>CN-114187260-A</td>\n",
       "      <td>CN-202111506090-A</td>\n",
       "      <td>20220315</td>\n",
       "      <td>CN</td>\n",
       "      <td>Photovoltaic module defect detection method an...</td>\n",
       "      <td>The invention provides a method and a system f...</td>\n",
       "      <td>2022</td>\n",
       "    </tr>\n",
       "    <tr>\n",
       "      <th>48927</th>\n",
       "      <td>CN-114758002-A</td>\n",
       "      <td>CN-202210670391-A</td>\n",
       "      <td>20220715</td>\n",
       "      <td>CN</td>\n",
       "      <td>Photovoltaic string position determining metho...</td>\n",
       "      <td>The invention discloses a method and a system ...</td>\n",
       "      <td>2022</td>\n",
       "    </tr>\n",
       "  </tbody>\n",
       "</table>\n",
       "</div>"
      ],
      "text/plain": [
       "      publication_number application_number publication_date country_code  \\\n",
       "40831     CN-111957047-A  CN-202010794440-A         20201120           CN   \n",
       "17166     CN-114758002-B  CN-202210670391-A         20220902           CN   \n",
       "12103     CN-114187260-A  CN-202111506090-A         20220315           CN   \n",
       "48927     CN-114758002-A  CN-202210670391-A         20220715           CN   \n",
       "\n",
       "                                                   title  \\\n",
       "40831  Checkpoint configuration data adjusting method...   \n",
       "17166  Photovoltaic string position determining metho...   \n",
       "12103  Photovoltaic module defect detection method an...   \n",
       "48927  Photovoltaic string position determining metho...   \n",
       "\n",
       "                                                abstract  year  \n",
       "40831  The application discloses a checkpoint configu...  2020  \n",
       "17166  The invention discloses a photovoltaic string ...  2022  \n",
       "12103  The invention provides a method and a system f...  2022  \n",
       "48927  The invention discloses a method and a system ...  2022  "
      ]
     },
     "execution_count": 60,
     "metadata": {},
     "output_type": "execute_result"
    }
   ],
   "source": [
    "soc_code = data[data['Title'].str.contains(\"Solar Photovoltaic\")].iloc[0,0]\n",
    "it = tasks[tasks['SOC Code'].eq(soc_code) & tasks['s']]\n",
    "patents.loc[it['patent_index'].values]"
   ]
  }
 ],
 "metadata": {
  "kernelspec": {
   "display_name": "base",
   "language": "python",
   "name": "python3"
  },
  "language_info": {
   "codemirror_mode": {
    "name": "ipython",
    "version": 3
   },
   "file_extension": ".py",
   "mimetype": "text/x-python",
   "name": "python",
   "nbconvert_exporter": "python",
   "pygments_lexer": "ipython3",
   "version": "3.10.6"
  },
  "orig_nbformat": 4
 },
 "nbformat": 4,
 "nbformat_minor": 2
}
